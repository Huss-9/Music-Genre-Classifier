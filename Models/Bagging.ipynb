{
 "cells": [
  {
   "cell_type": "code",
   "execution_count": 5,
   "metadata": {
    "id": "XGXlt_55v73I"
   },
   "outputs": [],
   "source": [
    "import numpy as np    # Numeric and matrix computation\n",
    "import pandas as pd   # Optional: good package for manipulating data \n",
    "import sklearn as sk  # Package with learning algorithms implemented\n",
    "import sklearn                         # Sklearn\n",
    "from sklearn.model_selection import train_test_split, GridSearchCV # split\n",
    "from sklearn.ensemble import BaggingClassifier\n",
    "from sklearn.model_selection import cross_val_score\n",
    "from sklearn.tree import DecisionTreeClassifier\n",
    "from sklearn.neighbors import KNeighborsClassifier\n",
    "from sklearn.model_selection import GridSearchCV\n",
    "from sklearn import preprocessing      # Preprocessing"
   ]
  },
  {
   "cell_type": "markdown",
   "metadata": {},
   "source": [
    "## Hecho por Hasnain Shafqat"
   ]
  },
  {
   "cell_type": "markdown",
   "metadata": {
    "id": "xZaH4krNwImu"
   },
   "source": [
    "**Read CSV**"
   ]
  },
  {
   "cell_type": "code",
   "execution_count": 6,
   "metadata": {
    "colab": {
     "base_uri": "https://localhost:8080/"
    },
    "id": "cTIl06GCwGc-",
    "outputId": "7b471932-91b7-4bc3-b20e-33c6d3dbb7c7"
   },
   "outputs": [
    {
     "data": {
      "text/plain": [
       "(20000, 26)"
      ]
     },
     "execution_count": 6,
     "metadata": {},
     "output_type": "execute_result"
    }
   ],
   "source": [
    "df = pd.read_csv(\"preprocessed_mean.csv\");\n",
    "df = pd.get_dummies(df, columns=[\"mode\",\"key\"])\n",
    "\n",
    "targetCol = 'music_genre';\n",
    "Y = df[targetCol]\n",
    "X = df.drop([targetCol],axis=1)\n",
    "\n",
    "X_train, X_test, Y_train, Y_test = train_test_split(X, Y, test_size=0.2, shuffle=True, random_state=33)\n",
    "\n",
    "df.shape\n"
   ]
  },
  {
   "cell_type": "markdown",
   "metadata": {},
   "source": [
    "**Bagging with KNN**"
   ]
  },
  {
   "cell_type": "code",
   "execution_count": 7,
   "metadata": {},
   "outputs": [],
   "source": [
    "scaler = preprocessing.Normalizer().fit(X_train)\n",
    "X_train_norm = scaler.transform(X_train)\n",
    "X_test_norm = scaler.transform(X_test)"
   ]
  },
  {
   "cell_type": "code",
   "execution_count": 8,
   "metadata": {},
   "outputs": [
    {
     "name": "stdout",
     "output_type": "stream",
     "text": [
      "0.721\n",
      "{'n_estimators': 350}\n"
     ]
    }
   ],
   "source": [
    "cv= 10\n",
    "params = {'n_estimators': [1,2,5,10,20,50,100,200, 250, 300, 350, 400]}\n",
    "\n",
    "Baggingknn = BaggingClassifier(base_estimator= KNeighborsClassifier(metric = 'manhattan', n_neighbors = 20, weights = 'distance'))\n",
    "\n",
    "gridBaggingknn = GridSearchCV(Baggingknn, params, cv=cv, n_jobs=-1)\n",
    "gridBaggingknn.fit(X_train_norm,Y_train)\n",
    "score_knn = gridBaggingknn.score(X_test_norm, Y_test)\n",
    "print(score_knn)\n",
    "print(gridBaggingknn.best_params_)"
   ]
  },
  {
   "cell_type": "markdown",
   "metadata": {},
   "source": [
    "**Bagging with Decision Trees**"
   ]
  },
  {
   "cell_type": "code",
   "execution_count": 12,
   "metadata": {
    "id": "Ljjl_FAJuTtP"
   },
   "outputs": [
    {
     "name": "stdout",
     "output_type": "stream",
     "text": [
      "0.89875\n",
      "{'n_estimators': 300}\n"
     ]
    }
   ],
   "source": [
    "cv= 10\n",
    "params = {'n_estimators': [1,2,5,10,20,50,100,200, 250, 300, 350, 400]}\n",
    "\n",
    "Bagging = BaggingClassifier(base_estimator=DecisionTreeClassifier())\n",
    "\n",
    "gridBagging = GridSearchCV(Bagging, params, cv=cv, n_jobs=-1)\n",
    "gridBagging.fit(X_train,Y_train)\n",
    "score_bagging = gridBagging.score(X_test, Y_test)\n",
    "print(score_bagging)\n",
    "print(gridBagging.best_params_)"
   ]
  },
  {
   "cell_type": "code",
   "execution_count": 15,
   "metadata": {},
   "outputs": [
    {
     "name": "stdout",
     "output_type": "stream",
     "text": [
      "Accuray with 300 estimators 0.8975\n"
     ]
    }
   ],
   "source": [
    "B1 = BaggingClassifier(base_estimator=DecisionTreeClassifier(), n_estimators=300)\n",
    "B1.fit(X_train,Y_train)\n",
    "score_bf1 = B1.score(X_test, Y_test)\n",
    "print(f\"Accuray with 300 estimators {score_bf1}\")"
   ]
  },
  {
   "cell_type": "code",
   "execution_count": 14,
   "metadata": {
    "colab": {
     "base_uri": "https://localhost:8080/"
    },
    "id": "0WPM5bWz51As",
    "outputId": "62d7e832-30a0-4daa-a26a-18774a376efe"
   },
   "outputs": [
    {
     "name": "stdout",
     "output_type": "stream",
     "text": [
      "0.89975\n",
      "{'n_estimators': 315}\n"
     ]
    }
   ],
   "source": [
    "cv= 10\n",
    "params = {'n_estimators': [ x for x in range(275, 325, 5)]}\n",
    "\n",
    "Bagging = BaggingClassifier(base_estimator=DecisionTreeClassifier())\n",
    "\n",
    "gridBagging2 = GridSearchCV(Bagging, params, cv=cv, n_jobs=-1)\n",
    "gridBagging2.fit(X_train,Y_train)\n",
    "score_bagging_2 = gridBagging2.score(X_test, Y_test)\n",
    "print(score_bagging_2)\n",
    "print(gridBagging2.best_params_)"
   ]
  },
  {
   "cell_type": "code",
   "execution_count": 20,
   "metadata": {
    "colab": {
     "base_uri": "https://localhost:8080/"
    },
    "id": "z76O40DhMxYK",
    "outputId": "bd50d8ba-026b-42f9-d281-aa5bac9d8a77"
   },
   "outputs": [
    {
     "name": "stdout",
     "output_type": "stream",
     "text": [
      "Accuray with 315 estimators 0.899\n"
     ]
    }
   ],
   "source": [
    "B2 = []\n",
    "B2 = BaggingClassifier(base_estimator=DecisionTreeClassifier(), n_estimators=315)\n",
    "B2.fit(X_train,Y_train)\n",
    "score_bf2 = B2.score(X_test, Y_test)\n",
    "print(f\"Accuray with 315 estimators {score_bf2}\")"
   ]
  },
  {
   "cell_type": "code",
   "execution_count": 21,
   "metadata": {},
   "outputs": [
    {
     "name": "stdout",
     "output_type": "stream",
     "text": [
      "Model with 315 estimators is better\n"
     ]
    }
   ],
   "source": [
    "if score_bf1 > score_bf2:\n",
    "    print(\"Model with 300 estimators is better\")\n",
    "else:\n",
    "    print(\"Model with 315 estimators is better\")"
   ]
  },
  {
   "cell_type": "code",
   "execution_count": 22,
   "metadata": {
    "colab": {
     "base_uri": "https://localhost:8080/"
    },
    "id": "3FS3PcrzaTtI",
    "outputId": "fc9f0e17-0d44-4830-c960-0cf26182ad0b"
   },
   "outputs": [
    {
     "name": "stdout",
     "output_type": "stream",
     "text": [
      "\n",
      "Confusion matrix on test set:\n",
      " [[903  46   1   5]\n",
      " [ 17 940  42  58]\n",
      " [  1  16 888  90]\n",
      " [ 10  30  91 862]]\n"
     ]
    }
   ],
   "source": [
    "knBagging = BaggingClassifier(base_estimator=DecisionTreeClassifier(), n_estimators = 315)\n",
    "knBagging.fit(X_train, Y_train)\n",
    "pred=knBagging.predict(X_test)\n",
    "print(\"\\nConfusion matrix on test set:\\n\",sk.metrics.confusion_matrix(Y_test, pred))"
   ]
  },
  {
   "cell_type": "code",
   "execution_count": 23,
   "metadata": {
    "colab": {
     "base_uri": "https://localhost:8080/"
    },
    "id": "-6D9VkG0eGkh",
    "outputId": "0bf8302c-a7c1-4f25-8fdb-6e36e150cb94"
   },
   "outputs": [
    {
     "name": "stdout",
     "output_type": "stream",
     "text": [
      "              precision    recall  f1-score   support\n",
      "\n",
      "   Classical       0.97      0.95      0.96       955\n",
      "  Electronic       0.91      0.89      0.90      1057\n",
      "     Hip-Hop       0.87      0.89      0.88       995\n",
      "        Rock       0.85      0.87      0.86       993\n",
      "\n",
      "    accuracy                           0.90      4000\n",
      "   macro avg       0.90      0.90      0.90      4000\n",
      "weighted avg       0.90      0.90      0.90      4000\n",
      "\n"
     ]
    }
   ],
   "source": [
    "Y_test_pred = knBagging.predict(X_test);\n",
    "print(sklearn.metrics.classification_report(Y_test,Y_test_pred))"
   ]
  },
  {
   "cell_type": "code",
   "execution_count": null,
   "metadata": {},
   "outputs": [],
   "source": []
  }
 ],
 "metadata": {
  "accelerator": "GPU",
  "colab": {
   "collapsed_sections": [],
   "name": "Bagging.ipynb",
   "provenance": []
  },
  "kernelspec": {
   "display_name": "Python 3",
   "language": "python",
   "name": "python3"
  },
  "language_info": {
   "codemirror_mode": {
    "name": "ipython",
    "version": 3
   },
   "file_extension": ".py",
   "mimetype": "text/x-python",
   "name": "python",
   "nbconvert_exporter": "python",
   "pygments_lexer": "ipython3",
   "version": "3.8.8"
  }
 },
 "nbformat": 4,
 "nbformat_minor": 4
}
